{
 "cells": [
  {
   "cell_type": "markdown",
   "metadata": {
    "colab_type": "text",
    "id": "iQjHqsmTAVLU"
   },
   "source": [
    "## Exercise 3\n",
    "In the videos you looked at how you would improve Fashion MNIST using Convolutions. For your exercise see if you can improve MNIST to 99.8% accuracy or more using only a single convolutional layer and a single MaxPooling 2D. You should stop training once the accuracy goes above this amount. It should happen in less than 20 epochs, so it's ok to hard code the number of epochs for training, but your training must end once it hits the above metric. If it doesn't, then you'll need to redesign your layers.\n",
    "\n",
    "I've started the code for you -- you need to finish it!\n",
    "\n",
    "When 99.8% accuracy has been hit, you should print out the string \"Reached 99.8% accuracy so cancelling training!\"\n"
   ]
  },
  {
   "cell_type": "code",
   "execution_count": 5,
   "metadata": {},
   "outputs": [],
   "source": [
    "import sys\n",
    "sys.path.append('/mnt/functions')\n",
    "import load_data\n",
    "\n",
    "import matplotlib.pyplot as plt"
   ]
  },
  {
   "cell_type": "code",
   "execution_count": 23,
   "metadata": {},
   "outputs": [],
   "source": [
    "(training_images, training_labels), (test_images, test_labels) = load_data.mnist_load_data()"
   ]
  },
  {
   "cell_type": "code",
   "execution_count": 30,
   "metadata": {},
   "outputs": [
    {
     "name": "stdout",
     "output_type": "stream",
     "text": [
      "(10000, 28, 28, 1)\n",
      "(60000, 28, 28)\n"
     ]
    }
   ],
   "source": [
    "print(test_images.shape)\n",
    "print(training_images.shape)"
   ]
  },
  {
   "cell_type": "code",
   "execution_count": 26,
   "metadata": {},
   "outputs": [
    {
     "data": {
      "text/plain": [
       "<matplotlib.image.AxesImage at 0x7f5e72b68ef0>"
      ]
     },
     "execution_count": 26,
     "metadata": {},
     "output_type": "execute_result"
    },
    {
     "data": {
      "image/png": "[encoded data removed]",
      "text/plain": [
       "<Figure size 432x288 with 1 Axes>"
      ]
     },
     "metadata": {},
     "output_type": "display_data"
    }
   ],
   "source": [
    "plt.imshow(test_images[0], cmap = 'gray_r')"
   ]
  },
  {
   "cell_type": "code",
   "execution_count": 38,
   "metadata": {
    "colab": {},
    "colab_type": "code",
    "id": "sfQRyaJWAIdg"
   },
   "outputs": [
    {
     "name": "stdout",
     "output_type": "stream",
     "text": [
      "_________________________________________________________________\n",
      "Layer (type)                 Output Shape              Param #   \n",
      "=================================================================\n",
      "conv2d_15 (Conv2D)           (None, 26, 26, 64)        640       \n",
      "_________________________________________________________________\n",
      "max_pooling2d_15 (MaxPooling (None, 13, 13, 64)        0         \n",
      "_________________________________________________________________\n",
      "flatten_14 (Flatten)         (None, 10816)             0         \n",
      "_________________________________________________________________\n",
      "dense_28 (Dense)             (None, 128)               1384576   \n",
      "_________________________________________________________________\n",
      "dense_29 (Dense)             (None, 10)                1290      \n",
      "=================================================================\n",
      "Total params: 1,386,506\n",
      "Trainable params: 1,386,506\n",
      "Non-trainable params: 0\n",
      "_________________________________________________________________\n",
      "Epoch 1/20\n",
      "60000/60000 [==============================] - 35s 585us/step - loss: 0.1349 - acc: 0.9600\n",
      "Epoch 2/20\n",
      "60000/60000 [==============================] - 34s 570us/step - loss: 0.0479 - acc: 0.9860\n",
      "Epoch 3/20\n",
      "60000/60000 [==============================] - 34s 572us/step - loss: 0.0287 - acc: 0.9908\n",
      "Epoch 4/20\n",
      "60000/60000 [==============================] - 34s 570us/step - loss: 0.0185 - acc: 0.9940\n",
      "Epoch 5/20\n",
      "60000/60000 [==============================] - 34s 570us/step - loss: 0.0119 - acc: 0.9963\n",
      "Epoch 6/20\n",
      "60000/60000 [==============================] - 34s 567us/step - loss: 0.0079 - acc: 0.9975\n",
      "Epoch 7/20\n",
      "60000/60000 [==============================] - 34s 568us/step - loss: 0.0081 - acc: 0.9973\n",
      "Epoch 8/20\n",
      "59904/60000 [============================>.] - ETA: 0s - loss: 0.0052 - acc: 0.9983\n",
      "Reached .998 training validation accuracy. Stoping Training.\n",
      "60000/60000 [==============================] - 35s 576us/step - loss: 0.0052 - acc: 0.9983\n",
      "10000/10000 [==============================] - 2s 206us/step\n"
     ]
    }
   ],
   "source": [
    "import tensorflow as tf\n",
    "\n",
    "# YOUR CODE STARTS HERE\n",
    "class mycallback(tf.keras.callbacks.Callback):\n",
    "    def on_epoch_end(self, epoch, logs = {}):\n",
    "        if logs.get('acc') >= .998:\n",
    "            print('\\nReached .998 training validation accuracy. Stoping Training.')\n",
    "            self.model.stop_training = True\n",
    "            \n",
    "callback = mycallback()\n",
    "\n",
    "# YOUR CODE ENDS HERE\n",
    "\n",
    "mnist = tf.keras.datasets.mnist\n",
    "# (training_images, training_labels), (test_images, test_labels) = mnist.load_data()\n",
    "(training_images, training_labels), (test_images, test_labels) = load_data.mnist_load_data()\n",
    "\n",
    "# YOUR CODE STARTS HERE\n",
    "training_images = training_images.reshape(60000, 28, 28, 1)\n",
    "training_images = training_images / 255.0\n",
    "test_images = test_images.reshape(10000, 28, 28, 1)\n",
    "test_images = test_images / 255.0\n",
    "# YOUR CODE ENDS HERE\n",
    "\n",
    "model = tf.keras.models.Sequential([\n",
    "    # YOUR CODE STARTS HERE\n",
    "    tf.keras.layers.Conv2D(filters = 64, kernel_size= (3,3), activation= 'relu', input_shape = (28, 28, 1)),\n",
    "    tf.keras.layers.MaxPool2D(pool_size= (2,2)),\n",
    "    tf.keras.layers.Flatten(),\n",
    "    tf.keras.layers.Dense(units= 128, activation= 'relu'),\n",
    "    tf.keras.layers.Dense(units = 10, activation= 'softmax')\n",
    "    # YOUR CODE ENDS HERE\n",
    "])\n",
    "\n",
    "# YOUR CODE STARTS HERE\n",
    "model.compile(optimizer = 'adam', loss = 'sparse_categorical_crossentropy', metrics = ['accuracy'])\n",
    "model.summary()\n",
    "# model.fit(training_images, training_labels, epochs = 20, validation_split = .2)\n",
    "model.fit(training_images, training_labels, epochs = 20, callbacks = [callback])\n",
    "test_loss, test_acc = model.evaluate(test_images, test_labels)\n",
    "print(test_acc)\n",
    "# YOUR CODE ENDS HERE\n",
    "\n"
   ]
  },
  {
   "cell_type": "code",
   "execution_count": null,
   "metadata": {},
   "outputs": [],
   "source": []
  }
 ],
 "metadata": {
  "colab": {
   "collapsed_sections": [],
   "name": "Exercise 3 - Question.ipynb",
   "provenance": [],
   "version": "0.3.2"
  },
  "kernelspec": {
   "display_name": "Python 3",
   "language": "python",
   "name": "python3"
  },
  "language_info": {
   "codemirror_mode": {
    "name": "ipython",
    "version": 3
   },
   "file_extension": ".py",
   "mimetype": "text/x-python",
   "name": "python",
   "nbconvert_exporter": "python",
   "pygments_lexer": "ipython3",
   "version": "3.5.2"
  }
 },
 "nbformat": 4,
 "nbformat_minor": 1
}
