{
 "cells": [
  {
   "cell_type": "code",
   "execution_count": 57,
   "metadata": {
    "colab": {},
    "colab_type": "code",
    "id": "wYtuKeK0dImp"
   },
   "outputs": [],
   "source": [
    "import csv\n",
    "import numpy as np\n",
    "import tensorflow as tf\n",
    "from tensorflow.keras.preprocessing.image import ImageDataGenerator\n",
    "import matplotlib.pyplot as plt\n",
    "import tensorflow.keras.layers as layers\n",
    "\n",
    "# from google.colab import files"
   ]
  },
  {
   "cell_type": "markdown",
   "metadata": {
    "colab_type": "text",
    "id": "EmMyh9_mkDHF"
   },
   "source": [
    "The data for this exercise is available at: https://www.kaggle.com/datamunge/sign-language-mnist/home\n",
    "\n",
    "Sign up and download to find 2 CSV files: sign_mnist_test.csv and sign_mnist_train.csv -- You will upload both of them using this button before you can continue.\n"
   ]
  },
  {
   "cell_type": "code",
   "execution_count": 16,
   "metadata": {},
   "outputs": [],
   "source": [
    "import zipfile\n",
    "import os\n",
    "import csv\n",
    "import pandas as pd"
   ]
  },
  {
   "cell_type": "code",
   "execution_count": 5,
   "metadata": {},
   "outputs": [],
   "source": [
    "os.mkdir('/tmp/sign_language_mnist/')"
   ]
  },
  {
   "cell_type": "code",
   "execution_count": 7,
   "metadata": {},
   "outputs": [
    {
     "name": "stdout",
     "output_type": "stream",
     "text": [
      "[<ZipInfo filename='amer_sign2.png' compress_type=deflate file_size=487452 compress_size=486800>, <ZipInfo filename='amer_sign3.png' compress_type=deflate file_size=44527 compress_size=42696>, <ZipInfo filename='american_sign_language.PNG' compress_type=deflate file_size=208007 compress_size=207139>, <ZipInfo filename='sign_mnist_test.csv' compress_type=deflate file_size=21777485 compress_size=6501436>, <ZipInfo filename='sign_mnist_train.csv' compress_type=deflate file_size=83281065 compress_size=25047334>]\n"
     ]
    }
   ],
   "source": [
    "local_ref = '/mnt/external_data/sign_language_mnist/sign-language-mnist.zip'\n",
    "zip_ref = zipfile.ZipFile(local_ref)\n",
    "print(zip_ref.infolist())\n",
    "zip_ref.extractall('/tmp/sign_language_mnist/')\n",
    "zip_ref.close()"
   ]
  },
  {
   "cell_type": "code",
   "execution_count": 8,
   "metadata": {
    "colab": {},
    "colab_type": "code",
    "id": "IcLOZlnnc_N7"
   },
   "outputs": [],
   "source": [
    "# uploaded=files.upload()"
   ]
  },
  {
   "cell_type": "code",
   "execution_count": 51,
   "metadata": {
    "colab": {},
    "colab_type": "code",
    "id": "4kxw-_rmcnVu",
    "scrolled": false
   },
   "outputs": [
    {
     "name": "stdout",
     "output_type": "stream",
     "text": [
      "(27455, 28, 28)\n",
      "(27455,)\n",
      "(7172, 28, 28)\n",
      "(7172,)\n"
     ]
    }
   ],
   "source": [
    "photo_dir = '/tmp/sign_language_mnist/'\n",
    "def get_data(filename):\n",
    "  # You will need to write code that will read the file passed\n",
    "  # into this function. The first line contains the column headers\n",
    "  # so you should ignore it\n",
    "  # Each successive line contians 785 comma separated values between 0 and 255\n",
    "  # The first value is the label\n",
    "  # The rest are the pixel values for that picture\n",
    "  # The function will return 2 np.array types. One with all the labels\n",
    "  # One with all the images\n",
    "  #\n",
    "  # Tips: \n",
    "  # If you read a full line (as 'row') then row[0] has the label\n",
    "  # and row[1:785] has the 784 pixel values\n",
    "  # Take a look at np.array_split to turn the 784 pixels into 28x28\n",
    "  # You are reading in strings, but need the values to be floats\n",
    "  # Check out np.array().astype for a conversion\n",
    "\n",
    "    labels = []\n",
    "    images = []\n",
    "    with open(filename) as training_file:\n",
    "        # Your code starts here\n",
    "        header_row = True\n",
    "        csv_reader = csv.reader(training_file)\n",
    "        for row in csv_reader:\n",
    "            if header_row:\n",
    "                header_row = False\n",
    "            else:\n",
    "                label = row[0]\n",
    "                labels.append(label)\n",
    "                \n",
    "                image = row[1:]\n",
    "                image = np.array(image).astype('float').reshape(28, -1)\n",
    "                images.append(image)\n",
    "                \n",
    "    # convert to np.arrays        \n",
    "    images = np.array(images)\n",
    "    labels = np.array(labels).astype('float')\n",
    "            \n",
    "        # Your code ends here\n",
    "        \n",
    "        \n",
    "    return images, labels\n",
    "\n",
    "\n",
    "training_images, training_labels = get_data(photo_dir + 'sign_mnist_train.csv')\n",
    "testing_images, testing_labels = get_data(photo_dir + 'sign_mnist_test.csv')\n",
    "\n",
    "# Keep these\n",
    "print(training_images.shape)\n",
    "print(training_labels.shape)\n",
    "print(testing_images.shape)\n",
    "print(testing_labels.shape)\n",
    "\n",
    "# Their output should be:\n",
    "# (27455, 28, 28)\n",
    "# (27455,)\n",
    "# (7172, 28, 28)\n",
    "# (7172,)"
   ]
  },
  {
   "cell_type": "code",
   "execution_count": 52,
   "metadata": {},
   "outputs": [
    {
     "data": {
      "image/png": "[encoded data removed]",
      "text/plain": [
       "<Figure size 432x288 with 1 Axes>"
      ]
     },
     "metadata": {},
     "output_type": "display_data"
    },
    {
     "data": {
      "image/png": "[encoded data removed]",
      "text/plain": [
       "<Figure size 432x288 with 1 Axes>"
      ]
     },
     "metadata": {},
     "output_type": "display_data"
    }
   ],
   "source": [
    "# look at an exmaple images\n",
    "plt.imshow(training_images[5], cmap = 'gray')\n",
    "plt.show()\n",
    "\n",
    "plt.imshow(testing_images[3], cmap = 'gray')\n",
    "plt.show()"
   ]
  },
  {
   "cell_type": "code",
   "execution_count": 53,
   "metadata": {},
   "outputs": [
    {
     "data": {
      "text/plain": [
       "(27455, 28, 28, 1)"
      ]
     },
     "execution_count": 53,
     "metadata": {},
     "output_type": "execute_result"
    }
   ],
   "source": [
    "np.expand_dims(training_images, axis = -1).shape"
   ]
  },
  {
   "cell_type": "code",
   "execution_count": 54,
   "metadata": {},
   "outputs": [
    {
     "data": {
      "text/plain": [
       "(27455, 28, 28, 1)"
      ]
     },
     "execution_count": 54,
     "metadata": {},
     "output_type": "execute_result"
    }
   ],
   "source": [
    "np.reshape(training_images, (-1, 28, 28, 1)).shape"
   ]
  },
  {
   "cell_type": "code",
   "execution_count": 55,
   "metadata": {
    "colab": {},
    "colab_type": "code",
    "id": "awoqRpyZdQkD"
   },
   "outputs": [
    {
     "name": "stdout",
     "output_type": "stream",
     "text": [
      "(27455, 28, 28, 1)\n",
      "(7172, 28, 28, 1)\n"
     ]
    }
   ],
   "source": [
    "# In this section you will have to add another dimension to the data\n",
    "# So, for example, if your array is (10000, 28, 28)\n",
    "# You will need to make it (10000, 28, 28, 1)\n",
    "# Hint: np.expand_dims\n",
    "\n",
    "training_images = np.expand_dims(training_images, axis = -1)\n",
    "testing_images = np.expand_dims(testing_images, axis = -1)\n",
    "\n",
    "# alternatively: \n",
    "# training_images = np.reshape(training_images, (-1, 28, 28, 1))\n",
    "# testing_images = np.reshape(testing_images, (-1, 28, 28, 1))\n",
    "\n",
    "# Create an ImageDataGenerator and do Image Augmentation\n",
    "train_datagen = ImageDataGenerator(rescale= 1 / 255, \n",
    "                                   rotation_range= 40, \n",
    "                                   width_shift_range= 0.2,\n",
    "                                   height_shift_range= 0.2, \n",
    "                                   shear_range= 0.2, \n",
    "                                   zoom_range= 0.2, \n",
    "                                   fill_mode= 'nearest',\n",
    "                                   horizontal_flip = True)\n",
    "\n",
    "validation_datagen = ImageDataGenerator(rescale= 1 / 255)\n",
    "    \n",
    "# Keep These\n",
    "print(training_images.shape)\n",
    "print(testing_images.shape)\n",
    "    \n",
    "# Their output should be:\n",
    "# (27455, 28, 28, 1)\n",
    "# (7172, 28, 28, 1)"
   ]
  },
  {
   "cell_type": "code",
   "execution_count": 71,
   "metadata": {},
   "outputs": [],
   "source": [
    "train_generator = train_datagen.flow(training_images, training_labels, batch_size= 32)\n",
    "validation_generator = validation_datagen.flow(testing_images, testing_labels, batch_size = 32)"
   ]
  },
  {
   "cell_type": "code",
   "execution_count": 85,
   "metadata": {
    "colab": {},
    "colab_type": "code",
    "id": "Rmb7S32cgRqS"
   },
   "outputs": [
    {
     "name": "stdout",
     "output_type": "stream",
     "text": [
      "Epoch 1/15\n",
      "858/858 [==============================] - 24s 28ms/step - loss: 2.8279 - acc: 0.1410 - val_loss: 2.1185 - val_acc: 0.3076\n",
      "Epoch 2/15\n",
      "858/858 [==============================] - 22s 26ms/step - loss: 2.1366 - acc: 0.3251 - val_loss: 1.5200 - val_acc: 0.4748\n",
      "Epoch 3/15\n",
      "858/858 [==============================] - 22s 26ms/step - loss: 1.7295 - acc: 0.4463 - val_loss: 1.0217 - val_acc: 0.6577\n",
      "Epoch 4/15\n",
      "858/858 [==============================] - 23s 26ms/step - loss: 1.4942 - acc: 0.5213 - val_loss: 0.9549 - val_acc: 0.6479\n",
      "Epoch 5/15\n",
      "858/858 [==============================] - 22s 26ms/step - loss: 1.3273 - acc: 0.5689 - val_loss: 0.7719 - val_acc: 0.7197\n",
      "Epoch 6/15\n",
      "858/858 [==============================] - 23s 27ms/step - loss: 1.2165 - acc: 0.6005 - val_loss: 0.7703 - val_acc: 0.7160\n",
      "Epoch 7/15\n",
      "858/858 [==============================] - 22s 26ms/step - loss: 1.1220 - acc: 0.6329 - val_loss: 0.5966 - val_acc: 0.7964\n",
      "Epoch 8/15\n",
      "858/858 [==============================] - 22s 26ms/step - loss: 1.0608 - acc: 0.6517 - val_loss: 0.7371 - val_acc: 0.7190\n",
      "Epoch 9/15\n",
      "858/858 [==============================] - 23s 27ms/step - loss: 0.9882 - acc: 0.6731 - val_loss: 0.5357 - val_acc: 0.7935\n",
      "Epoch 10/15\n",
      "858/858 [==============================] - 22s 26ms/step - loss: 0.9305 - acc: 0.6902 - val_loss: 0.4468 - val_acc: 0.8621\n",
      "Epoch 11/15\n",
      "858/858 [==============================] - 23s 26ms/step - loss: 0.8876 - acc: 0.7062 - val_loss: 0.4237 - val_acc: 0.8477\n",
      "Epoch 12/15\n",
      "858/858 [==============================] - 23s 27ms/step - loss: 0.8575 - acc: 0.7162 - val_loss: 0.3865 - val_acc: 0.8804\n",
      "Epoch 13/15\n",
      "858/858 [==============================] - 23s 26ms/step - loss: 0.8073 - acc: 0.7320 - val_loss: 0.3698 - val_acc: 0.8829\n",
      "Epoch 14/15\n",
      "858/858 [==============================] - 23s 27ms/step - loss: 0.7899 - acc: 0.7360 - val_loss: 0.3924 - val_acc: 0.8675\n",
      "Epoch 15/15\n",
      "858/858 [==============================] - 23s 26ms/step - loss: 0.7540 - acc: 0.7494 - val_loss: 0.3164 - val_acc: 0.8950\n",
      "7172/7172 [==============================] - 2s 211us/step\n"
     ]
    },
    {
     "data": {
      "text/plain": [
       "[6.92426086682151, 0.56609035]"
      ]
     },
     "execution_count": 85,
     "metadata": {},
     "output_type": "execute_result"
    }
   ],
   "source": [
    "# Define the model\n",
    "# Use no more than 2 Conv2D and 2 MaxPooling2D\n",
    "model = tf.keras.models.Sequential([\n",
    "    layers.Conv2D(filters = 64, kernel_size= (3,3), activation = 'relu', input_shape = (28, 28, 1)),\n",
    "    layers.MaxPool2D((2,2)),\n",
    "    layers.Conv2D(64, (3,3), activation= 'relu'),\n",
    "    layers.MaxPool2D((2,2)),\n",
    "    layers.Flatten(),\n",
    "    layers.Dense(128, activation= 'relu'),\n",
    "    layers.Dense(26, activation= 'softmax')\n",
    "    ])\n",
    "\n",
    "# Compile Model. \n",
    "model.compile(optimizer = tf.train.AdamOptimizer(), \n",
    "              loss = 'sparse_categorical_crossentropy', \n",
    "              metrics = ['acc'])\n",
    "\n",
    "# Train the Model\n",
    "history = model.fit_generator(generator= train_generator, \n",
    "                              epochs = 15, \n",
    "                              validation_data = validation_generator)\n",
    "\n",
    "# this gives bad results, but I'm keeping so I can match the expected output\n",
    "# need to normalize images!!!\n",
    "model.evaluate(testing_images, testing_labels)\n",
    "    \n",
    "# The output from model.evaluate should be close to:\n",
    "[6.92426086682151, 0.56609035]\n"
   ]
  },
  {
   "cell_type": "code",
   "execution_count": 86,
   "metadata": {},
   "outputs": [
    {
     "data": {
      "text/plain": [
       "[0.31637088554701986, 0.8950083658672616]"
      ]
     },
     "execution_count": 86,
     "metadata": {},
     "output_type": "execute_result"
    }
   ],
   "source": [
    "# This is a better way to evaluate \n",
    "model.evaluate_generator(validation_generator)"
   ]
  },
  {
   "cell_type": "code",
   "execution_count": 92,
   "metadata": {},
   "outputs": [
    {
     "data": {
      "text/plain": [
       "dict_keys(['val_loss', 'loss', 'val_acc', 'acc'])"
      ]
     },
     "execution_count": 92,
     "metadata": {},
     "output_type": "execute_result"
    }
   ],
   "source": [
    "history.history.keys()"
   ]
  },
  {
   "cell_type": "code",
   "execution_count": 96,
   "metadata": {
    "colab": {},
    "colab_type": "code",
    "id": "_Q3Zpr46dsij"
   },
   "outputs": [
    {
     "data": {
      "image/png": "[encoded data removed]",
      "text/plain": [
       "<Figure size 432x288 with 1 Axes>"
      ]
     },
     "metadata": {},
     "output_type": "display_data"
    },
    {
     "data": {
      "image/png": "[encoded data removed]",
      "text/plain": [
       "<Figure size 432x288 with 1 Axes>"
      ]
     },
     "metadata": {},
     "output_type": "display_data"
    }
   ],
   "source": [
    "# Plot the chart for accuracy and loss on both training and validation\n",
    "\n",
    "import matplotlib.pyplot as plt\n",
    "import seaborn as sns\n",
    "\n",
    "sns.set_style('darkgrid')\n",
    "\n",
    "acc = history.history.get('acc')\n",
    "val_acc = history.history['val_acc']\n",
    "loss = history.history['loss']\n",
    "val_loss = history.history.get('val_loss')\n",
    "\n",
    "epochs = range(len(acc))\n",
    "\n",
    "# plt.figure()\n",
    "plt.plot(epochs, acc, 'r', label='Training accuracy')\n",
    "plt.plot(epochs, val_acc, 'b', label='Validation accuracy')\n",
    "plt.title('Training and validation accuracy')\n",
    "plt.legend()\n",
    "\n",
    "\n",
    "plt.figure()\n",
    "plt.plot(epochs, loss, 'r', label='Training Loss')\n",
    "plt.plot(epochs, val_loss, 'b', label='Validation Loss')\n",
    "plt.title('Training and validation loss')\n",
    "plt.legend()\n",
    "\n",
    "plt.show()"
   ]
  },
  {
   "cell_type": "code",
   "execution_count": null,
   "metadata": {},
   "outputs": [],
   "source": []
  }
 ],
 "metadata": {
  "colab": {
   "name": "Exercise 8 - Question.ipynb",
   "provenance": [
    {
     "file_id": "1KMi9wAhMhxvuc-bfptkCUlnVRGrh5ySj",
     "timestamp": 1550682934823
    }
   ],
   "version": "0.3.2"
  },
  "kernelspec": {
   "display_name": "Python 3",
   "language": "python",
   "name": "python3"
  },
  "language_info": {
   "codemirror_mode": {
    "name": "ipython",
    "version": 3
   },
   "file_extension": ".py",
   "mimetype": "text/x-python",
   "name": "python",
   "nbconvert_exporter": "python",
   "pygments_lexer": "ipython3",
   "version": "3.5.2"
  }
 },
 "nbformat": 4,
 "nbformat_minor": 1
}
