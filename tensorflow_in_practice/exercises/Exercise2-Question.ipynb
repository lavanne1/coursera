{
 "cells": [
  {
   "cell_type": "markdown",
   "metadata": {
    "colab_type": "text",
    "id": "tOoyQ70H00_s"
   },
   "source": [
    "## Exercise 2\n",
    "In the course you learned how to do classificaiton using Fashion MNIST, a data set containing items of clothing. There's another, similar dataset called MNIST which has items of handwriting -- the digits 0 through 9.\n",
    "\n",
    "Write an MNIST classifier that trains to 99% accuracy or above, and does it without a fixed number of epochs -- i.e. you should stop training once you reach that level of accuracy.\n",
    "\n",
    "Some notes:\n",
    "1. It should succeed in less than 10 epochs, so it is okay to change epochs to 10, but nothing larger\n",
    "2. When it reaches 99% or greater it should print out the string \"Reached 99% accuracy so cancelling training!\"\n",
    "3. If you add any additional variables, make sure you use the same names as the ones used in the class\n",
    "\n",
    "I've started the code for you below -- how would you finish it? "
   ]
  },
  {
   "cell_type": "code",
   "execution_count": 2,
   "metadata": {},
   "outputs": [],
   "source": [
    "# I added this function to load data\n",
    "\n",
    "from __future__ import absolute_import\n",
    "from __future__ import division\n",
    "from __future__ import print_function\n",
    "\n",
    "import numpy as np\n",
    "\n",
    "from tensorflow.python.keras.utils.data_utils import get_file\n",
    "from tensorflow.python.util.tf_export import tf_export\n",
    "\n",
    "\n",
    "@tf_export('keras.datasets.mnist.load_data')\n",
    "def load_data(path='mnist.npz'):\n",
    "  \"\"\"Loads the MNIST dataset.\n",
    "  Arguments:\n",
    "      path: path where to cache the dataset locally\n",
    "          (relative to ~/.keras/datasets).\n",
    "  Returns:\n",
    "      Tuple of Numpy arrays: `(x_train, y_train), (x_test, y_test)`.\n",
    "  License:\n",
    "      Yann LeCun and Corinna Cortes hold the copyright of MNIST dataset,\n",
    "      which is a derivative work from original NIST datasets.\n",
    "      MNIST dataset is made available under the terms of the\n",
    "      [Creative Commons Attribution-Share Alike 3.0 license.](\n",
    "      https://creativecommons.org/licenses/by-sa/3.0/)\n",
    "  \"\"\"\n",
    "#   origin_folder = 'https://storage.googleapis.com/tensorflow/tf-keras-datasets/'\n",
    "#   path = get_file(\n",
    "#       path,\n",
    "#       origin=origin_folder + 'mnist.npz',\n",
    "#       file_hash='8a61469f7ea1b51cbae51d4f78837e45')\n",
    "\n",
    "  path = '/mnt/external_data/mnist/mnist.npz'\n",
    "\n",
    "  with np.load(path) as f:\n",
    "    x_train, y_train = f['x_train'], f['y_train']\n",
    "    x_test, y_test = f['x_test'], f['y_test']\n",
    "\n",
    "    return (x_train, y_train), (x_test, y_test)"
   ]
  },
  {
   "cell_type": "code",
   "execution_count": 19,
   "metadata": {
    "colab": {},
    "colab_type": "code",
    "id": "9rvXQGAA0ssC"
   },
   "outputs": [
    {
     "name": "stdout",
     "output_type": "stream",
     "text": [
      "Epoch 1/10\n",
      "60000/60000 [==============================] - 8s 129us/step - loss: 0.2013 - acc: 0.9410\n",
      "Epoch 2/10\n",
      "60000/60000 [==============================] - 8s 131us/step - loss: 0.0805 - acc: 0.9745\n",
      "Epoch 3/10\n",
      "60000/60000 [==============================] - 8s 129us/step - loss: 0.0523 - acc: 0.9838\n",
      "Epoch 4/10\n",
      "60000/60000 [==============================] - 8s 134us/step - loss: 0.0371 - acc: 0.9882\n",
      "Epoch 5/10\n",
      "59808/60000 [============================>.] - ETA: 0s - loss: 0.0253 - acc: 0.9921\n",
      "Reached 99% accuracy so cancelling training!\n",
      "60000/60000 [==============================] - 8s 128us/step - loss: 0.0252 - acc: 0.9921\n"
     ]
    },
    {
     "data": {
      "text/plain": [
       "<tensorflow.python.keras.callbacks.History at 0x7f07641dfc88>"
      ]
     },
     "execution_count": 19,
     "metadata": {},
     "output_type": "execute_result"
    }
   ],
   "source": [
    "# YOUR CODE SHOULD START HERE\n",
    "class my_callback(tf.keras.callbacks.Callback):\n",
    "    def on_epoch_end(self, epoch, logs = {}):\n",
    "        if (logs.get('acc') >= .99):\n",
    "            print('\\nReached 99% accuracy so cancelling training!')\n",
    "            self.model.stop_training = True\n",
    "            \n",
    "instance_of_my_callback = my_callback()\n",
    "            \n",
    "# YOUR CODE SHOULD END HERE\n",
    "import tensorflow as tf\n",
    "mnist = tf.keras.datasets.mnist\n",
    "\n",
    "# (x_train, y_train),(x_test, y_test) = mnist.load_data()\n",
    "(x_train, y_train),(x_test, y_test) = load_data()\n",
    "\n",
    "# YOUR CODE SHOULD START HERE\n",
    "x_train = x_train / 255.0\n",
    "x_test = x_test / 255.0\n",
    "\n",
    "# YOUR CODE SHOULD END HERE\n",
    "model = tf.keras.models.Sequential([tf.keras.layers.Flatten(),\n",
    "                                    tf.keras.layers.Dense(units = 500, activation= tf.keras.activations.relu),\n",
    "                                    tf.keras.layers.Dense(units = 10, activation= tf.keras.activations.softmax)\n",
    "                                    ])\n",
    "\n",
    "model.compile(optimizer='adam',\n",
    "              loss='sparse_categorical_crossentropy',\n",
    "              metrics=['accuracy'])\n",
    "\n",
    "# YOUR CODE SHOULD START HERE\n",
    "model.fit(x_train, y_train, epochs = 10, callbacks= [instance_of_my_callback])\n",
    "# YOUR CODE SHOULD END HERE"
   ]
  },
  {
   "cell_type": "code",
   "execution_count": 46,
   "metadata": {
    "colab": {},
    "colab_type": "code",
    "id": "9rvXQGAA0ssC"
   },
   "outputs": [
    {
     "name": "stdout",
     "output_type": "stream",
     "text": [
      "Train on 48000 samples, validate on 12000 samples\n",
      "Epoch 1/10\n",
      "48000/48000 [==============================] - 8s 167us/step - loss: 0.2227 - acc: 0.9342 - val_loss: 0.1201 - val_acc: 0.9652\n",
      "Epoch 2/10\n",
      "47648/48000 [============================>.] - ETA: 0s - loss: 0.0898 - acc: 0.9732\n",
      "Reached < 0.1 validation loss so cancelling training!\n",
      "48000/48000 [==============================] - 7s 143us/step - loss: 0.0895 - acc: 0.9733 - val_loss: 0.0949 - val_acc: 0.9703\n"
     ]
    },
    {
     "data": {
      "text/plain": [
       "<tensorflow.python.keras.callbacks.History at 0x7f063064c278>"
      ]
     },
     "execution_count": 46,
     "metadata": {},
     "output_type": "execute_result"
    }
   ],
   "source": [
    "# YOUR CODE SHOULD START HERE\n",
    "class my_callback_validation(tf.keras.callbacks.Callback):\n",
    "    def on_epoch_end(self, epoch, logs = {}):\n",
    "        if (logs.get('val_loss') < .1):\n",
    "            print('\\nReached < 0.1 validation loss so cancelling training!')\n",
    "            self.model.stop_training = True\n",
    "            \n",
    "instance_of_my_callback_validation = my_callback_validation()\n",
    "            \n",
    "# YOUR CODE SHOULD END HERE\n",
    "import tensorflow as tf\n",
    "mnist = tf.keras.datasets.mnist\n",
    "\n",
    "# (x_train, y_train),(x_test, y_test) = mnist.load_data()\n",
    "(x_train, y_train),(x_test, y_test) = load_data()\n",
    "\n",
    "# YOUR CODE SHOULD START HERE\n",
    "x_train = x_train / 255.0\n",
    "x_test = x_test / 255.0\n",
    "\n",
    "# YOUR CODE SHOULD END HERE\n",
    "model = tf.keras.models.Sequential([tf.keras.layers.Flatten(),\n",
    "                                    tf.keras.layers.Dense(units = 500, activation= tf.keras.activations.relu),\n",
    "                                    tf.keras.layers.Dense(units = 10, activation= tf.keras.activations.softmax)\n",
    "                                    ])\n",
    "\n",
    "model.compile(optimizer='adam',\n",
    "              loss='sparse_categorical_crossentropy',\n",
    "              metrics=['accuracy'])\n",
    "\n",
    "# YOUR CODE SHOULD START HERE\n",
    "model.fit(x_train, y_train, epochs = 10, validation_split = 0.2, callbacks= [instance_of_my_callback_validation])\n",
    "# YOUR CODE SHOULD END HERE"
   ]
  },
  {
   "cell_type": "code",
   "execution_count": 20,
   "metadata": {},
   "outputs": [],
   "source": [
    "import matplotlib.pyplot as plt"
   ]
  },
  {
   "cell_type": "code",
   "execution_count": 21,
   "metadata": {},
   "outputs": [
    {
     "name": "stdout",
     "output_type": "stream",
     "text": [
      "(28, 28)\n"
     ]
    },
    {
     "data": {
      "text/plain": [
       "<matplotlib.image.AxesImage at 0x7f07507a0f28>"
      ]
     },
     "execution_count": 21,
     "metadata": {},
     "output_type": "execute_result"
    },
    {
     "data": {
      "image/png": "[encoded data removed]",
      "text/plain": [
       "<Figure size 432x288 with 1 Axes>"
      ]
     },
     "metadata": {},
     "output_type": "display_data"
    }
   ],
   "source": [
    "print(x_train[0].shape)\n",
    "plt.imshow(x_train[0], cmap= 'gray_r')"
   ]
  },
  {
   "cell_type": "code",
   "execution_count": 24,
   "metadata": {},
   "outputs": [],
   "source": [
    "test_preds = model.predict(x_test)"
   ]
  },
  {
   "cell_type": "code",
   "execution_count": 25,
   "metadata": {},
   "outputs": [],
   "source": [
    "train_preds = model.predict(x_train)"
   ]
  },
  {
   "cell_type": "code",
   "execution_count": 37,
   "metadata": {},
   "outputs": [],
   "source": [
    "test_index = 1"
   ]
  },
  {
   "cell_type": "code",
   "execution_count": 38,
   "metadata": {},
   "outputs": [
    {
     "data": {
      "text/plain": [
       "<matplotlib.image.AxesImage at 0x7f07506f2160>"
      ]
     },
     "execution_count": 38,
     "metadata": {},
     "output_type": "execute_result"
    },
    {
     "data": {
      "image/png": "[encoded data removed]",
      "text/plain": [
       "<Figure size 432x288 with 1 Axes>"
      ]
     },
     "metadata": {},
     "output_type": "display_data"
    }
   ],
   "source": [
    "plt.imshow(x_test[test_index], cmap= 'gray_r')"
   ]
  },
  {
   "cell_type": "code",
   "execution_count": 39,
   "metadata": {},
   "outputs": [
    {
     "data": {
      "text/plain": [
       "2"
      ]
     },
     "execution_count": 39,
     "metadata": {},
     "output_type": "execute_result"
    }
   ],
   "source": [
    "np.argmax(test_preds[test_index])"
   ]
  },
  {
   "cell_type": "code",
   "execution_count": 40,
   "metadata": {},
   "outputs": [
    {
     "data": {
      "text/plain": [
       "2"
      ]
     },
     "execution_count": 40,
     "metadata": {},
     "output_type": "execute_result"
    }
   ],
   "source": [
    "y_test[test_index]"
   ]
  },
  {
   "cell_type": "code",
   "execution_count": null,
   "metadata": {},
   "outputs": [],
   "source": []
  }
 ],
 "metadata": {
  "colab": {
   "collapsed_sections": [],
   "name": "Exercise2-Question.ipynb",
   "provenance": [],
   "version": "0.3.2"
  },
  "kernelspec": {
   "display_name": "Python 3",
   "language": "python",
   "name": "python3"
  },
  "language_info": {
   "codemirror_mode": {
    "name": "ipython",
    "version": 3
   },
   "file_extension": ".py",
   "mimetype": "text/x-python",
   "name": "python",
   "nbconvert_exporter": "python",
   "pygments_lexer": "ipython3",
   "version": "3.5.2"
  }
 },
 "nbformat": 4,
 "nbformat_minor": 1
}
